{
 "cells": [
  {
   "cell_type": "code",
   "execution_count": 19,
   "metadata": {},
   "outputs": [],
   "source": [
    "import pandas as pd\n",
    "data_siswa = pd.read_csv('data_siswa_jakarta.csv')\n",
    "data_jaksel = data_siswa.loc[(data_siswa.wilayah == \"Kota Jakarta Selatan\")]"
   ]
  },
  {
   "cell_type": "code",
   "execution_count": 20,
   "metadata": {},
   "outputs": [
    {
     "data": {
      "text/plain": [
       "nama_sekolah    SMAN 70 JAKARTASMAN 55 JAKARTASMAN 6 JAKARTASM...\n",
       "npsn            2010257020102575201025742010257120107299201073...\n",
       "bp              SMASMASMASMASMASMASMASMASMASPK SMASPK SMASMASP...\n",
       "status          NegeriNegeriNegeriNegeriSwastaNegeriSwastaSwas...\n",
       "pd                                                          40968\n",
       "guru                                                         2638\n",
       "kecamatan       Kebayoran BaruPancoranKebayoran BaruCilandakPa...\n",
       "wilayah         Kota Jakarta SelatanKota Jakarta SelatanKota J...\n",
       "dtype: object"
      ]
     },
     "execution_count": 20,
     "metadata": {},
     "output_type": "execute_result"
    }
   ],
   "source": [
    "data_jaksel.sum()"
   ]
  },
  {
   "cell_type": "code",
   "execution_count": null,
   "metadata": {},
   "outputs": [],
   "source": []
  }
 ],
 "metadata": {
  "interpreter": {
   "hash": "7490594cbf03ad28a30a35de97dd72a520723904ce7a606805f67fef9398d913"
  },
  "kernelspec": {
   "display_name": "Python 3.10.2 64-bit",
   "language": "python",
   "name": "python3"
  },
  "language_info": {
   "codemirror_mode": {
    "name": "ipython",
    "version": 3
   },
   "file_extension": ".py",
   "mimetype": "text/x-python",
   "name": "python",
   "nbconvert_exporter": "python",
   "pygments_lexer": "ipython3",
   "version": "3.10.2"
  },
  "orig_nbformat": 4
 },
 "nbformat": 4,
 "nbformat_minor": 2
}
